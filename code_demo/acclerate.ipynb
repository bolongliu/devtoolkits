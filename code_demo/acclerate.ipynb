{
 "cells": [
  {
   "cell_type": "markdown",
   "metadata": {},
   "source": [
    "# python 加速方法示例\n",
    "Python中有几种并行处理的方法，包括多线程、多进程和异步IO。以下是每种方法的示例代码：\n",
    "\n",
    "## 1. 使用joblib 中的 Parallel进行加速\n",
    "## 2. 多线程：Python的threading模块提供了一个高级接口来管理线程。\n",
    "## 3. 多进程：Python的multiprocessing模块是一个创建进程的包，它利用了Python的threading接口。\n",
    "## 4. 异步IO：Python的asyncio模块提供了编写单线程并发代码的设施，使用协程，multiplexing I/O access over sockets and other resources, running network clients and servers, and other related primitives\n",
    "\n",
    "请注意，由于Python的全局解释器锁（GIL）的存在，多线程在CPU密集型任务中可能不会提高性能。对于这种情况，多进程或异步IO可能是更好的选择。"
   ]
  },
  {
   "cell_type": "code",
   "execution_count": 1,
   "metadata": {},
   "outputs": [
    {
     "name": "stdout",
     "output_type": "stream",
     "text": [
      "0\n",
      "2\n",
      "4\n",
      "6\n",
      "8\n",
      "10\n",
      "12\n",
      "14\n",
      "16\n",
      "18\n",
      "loop using 10.007529497146606 \n",
      "0\n",
      "2\n",
      "4\n",
      "6\n",
      "8\n",
      "10\n",
      "12\n",
      "14\n",
      "18\n",
      "16\n",
      "parallel using 2.477881669998169 \n"
     ]
    }
   ],
   "source": [
    "## 1. 使用joblib 中的 Parallel进行加速\n",
    "from joblib import Parallel, delayed\n",
    "import time\n",
    "\n",
    "\n",
    "def single(a, b):\n",
    "    \"\"\"定义一个目标函数，一般是main函数\"\"\"\n",
    "    time.sleep(1)\n",
    "    print(a + b)\n",
    "\n",
    "\n",
    "def in_loop():\n",
    "    start = time.time()\n",
    "    for i in range(10):\n",
    "        single(i, i)\n",
    "    total_time = time.time() - start\n",
    "    print(\"loop using {} \".format(total_time))\n",
    "\n",
    "\n",
    "def in_parallel():\n",
    "    start = time.time()\n",
    "    Parallel(n_jobs=-1)(delayed(single)(i, i) for i in range(10))  # 并行执行single函数\n",
    "    total_time = time.time() - start\n",
    "    print(\"parallel using {} \".format(total_time))\n",
    "\n",
    "\n",
    "if __name__ == \"__main__\":\n",
    "    in_loop()\n",
    "    in_parallel()"
   ]
  },
  {
   "cell_type": "code",
   "execution_count": 1,
   "metadata": {},
   "outputs": [
    {
     "name": "stdout",
     "output_type": "stream",
     "text": [
      "Worker: 0\n",
      "Worker: 1\n",
      "Worker: 2\n",
      "Worker: 3\n",
      "Worker: 4\n"
     ]
    }
   ],
   "source": [
    "## 2. 多线程：Python的threading模块提供了一个高级接口来管理线程。\n",
    "\n",
    "import threading\n",
    "\n",
    "def worker(num):\n",
    "    \"\"\"thread worker function\"\"\"\n",
    "    print('Worker: %s' % num)\n",
    "\n",
    "threads = []\n",
    "for i in range(5):\n",
    "    t = threading.Thread(target=worker, args=(i,))\n",
    "    threads.append(t)\n",
    "    t.start()"
   ]
  },
  {
   "cell_type": "code",
   "execution_count": 2,
   "metadata": {},
   "outputs": [
    {
     "name": "stdout",
     "output_type": "stream",
     "text": [
      "Worker: Worker:0\n"
     ]
    },
    {
     "name": "stdout",
     "output_type": "stream",
     "text": [
      " Worker: 32\n",
      "Worker:\n",
      " 4Worker: 1\n",
      "\n"
     ]
    }
   ],
   "source": [
    "## 3. 多进程：Python的multiprocessing模块是一个创建进程的包，它利用了Python的threading接口。\n",
    "\n",
    "from multiprocessing import Process\n",
    "\n",
    "def worker(num):\n",
    "    \"\"\"process worker function\"\"\"\n",
    "    print('Worker:', num)\n",
    "\n",
    "if __name__ == '__main__':\n",
    "    jobs = []\n",
    "    for i in range(5):\n",
    "        p = Process(target=worker, args=(i,))\n",
    "        jobs.append(p)\n",
    "        p.start()"
   ]
  },
  {
   "cell_type": "code",
   "execution_count": 4,
   "metadata": {},
   "outputs": [
    {
     "name": "stdout",
     "output_type": "stream",
     "text": [
      "Worker: 0\n",
      "Worker: 1\n",
      "Worker: 2\n",
      "Worker: 3\n",
      "Worker: 4\n"
     ]
    }
   ],
   "source": [
    "## 4. 异步IO：Python的asyncio模块提供了编写单线程并发代码的设施，使用协程，multiplexing I/O access over sockets and other resources, running network clients and servers, and other related primitives\n",
    "\n",
    "import asyncio\n",
    "\n",
    "async def worker(num):\n",
    "    print('Worker:', num)\n",
    "    await asyncio.sleep(1)  # 模拟IO-bound操作\n",
    "\n",
    "async def main():\n",
    "    tasks = [worker(i) for i in range(5)]\n",
    "    await asyncio.gather(*tasks)\n",
    "\n",
    "# 在Jupyter notebook或IPython中运行\n",
    "await main()"
   ]
  },
  {
   "cell_type": "code",
   "execution_count": null,
   "metadata": {},
   "outputs": [],
   "source": []
  }
 ],
 "metadata": {
  "kernelspec": {
   "display_name": "ailab",
   "language": "python",
   "name": "python3"
  },
  "language_info": {
   "codemirror_mode": {
    "name": "ipython",
    "version": 3
   },
   "file_extension": ".py",
   "mimetype": "text/x-python",
   "name": "python",
   "nbconvert_exporter": "python",
   "pygments_lexer": "ipython3",
   "version": "3.10.11"
  },
  "orig_nbformat": 4
 },
 "nbformat": 4,
 "nbformat_minor": 2
}
